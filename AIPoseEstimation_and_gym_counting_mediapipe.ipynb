{
 "cells": [
  {
   "cell_type": "markdown",
   "id": "5565ed49",
   "metadata": {},
   "source": [
    "# Step1:Import Dependceis"
   ]
  },
  {
   "cell_type": "code",
   "execution_count": 1,
   "id": "3bedab80",
   "metadata": {},
   "outputs": [],
   "source": [
    "import mediapipe as mp\n",
    "import numpy as np\n",
    "import cv2"
   ]
  },
  {
   "cell_type": "code",
   "execution_count": 2,
   "id": "e986b0ef",
   "metadata": {},
   "outputs": [],
   "source": [
    "mp_drawaing = mp.solutions.drawing_utils\n",
    "mp_pose = mp.solutions.pose"
   ]
  },
  {
   "cell_type": "markdown",
   "id": "fd13b246",
   "metadata": {},
   "source": [
    "###### Get real time webcam"
   ]
  },
  {
   "cell_type": "code",
   "execution_count": 3,
   "id": "6e273a89",
   "metadata": {},
   "outputs": [],
   "source": [
    "cap = cv2.VideoCapture(0)\n",
    "while cap.isOpened():\n",
    "    ret, frame = cap.read()\n",
    "    \n",
    "   # when we feed image/frame into mediapip it must be in RGB\n",
    "#    reco\n",
    "    cv2.imshow(\"AIPoseDetection: \", frame)\n",
    "    \n",
    "    if cv2.waitKey(10) & 0xFF == ord('q'):\n",
    "        break\n",
    "cap.release()\n",
    "cv2.destroyAllWindows()"
   ]
  },
  {
   "cell_type": "markdown",
   "id": "8e8d074a",
   "metadata": {},
   "source": [
    "# Step2: Make Detection"
   ]
  },
  {
   "cell_type": "code",
   "execution_count": 8,
   "id": "6626759a",
   "metadata": {},
   "outputs": [],
   "source": [
    "cap = cv2.VideoCapture(0)\n",
    "with mp_pose.Pose(min_detection_confidence=0.5, min_tracking_confidence=0.5) as pose:\n",
    "    while cap.isOpened():\n",
    "        ret, frame = cap.read()\n",
    "\n",
    "       # when we feed image/frame into mediapip it must be in RGB\n",
    "        # recolor the image from bgr to rgb\n",
    "        image = cv2.cvtColor(frame, cv2.COLOR_BGR2RGB)\n",
    "        image.flags.writeable = False\n",
    "\n",
    "        # Make detection:\n",
    "        result = pose.process(image)\n",
    "\n",
    "        # when image feed to webcam , it support bgr\n",
    "        # recoolor image from rgb to bgr\n",
    "        image.flags.writeable= True\n",
    "        image = cv2.cvtColor(image, cv2.COLOR_RGB2BGR)\n",
    "\n",
    "        # Render the image\n",
    "        mp_drawaing.draw_landmarks(image, result.pose_landmarks, mp_pose.POSE_CONNECTIONS,\n",
    "                                  mp_drawaing.DrawingSpec(color=(255,34,68), thickness=2, circle_radius=3),\n",
    "                                  mp_drawaing.DrawingSpec(color=(0,255,0), thickness=2, circle_radius=3))\n",
    "        cv2.imshow(\"AIPoseDetection: \", image)\n",
    "\n",
    "        if cv2.waitKey(10) & 0xFF == ord('q'):\n",
    "            break\n",
    "cap.release()\n",
    "cv2.destroyAllWindows()"
   ]
  },
  {
   "cell_type": "code",
   "execution_count": 5,
   "id": "088d6db0",
   "metadata": {},
   "outputs": [
    {
     "data": {
      "text/plain": [
       "DrawingSpec(color=(255, 34, 68), thickness=2, circle_radius=3)"
      ]
     },
     "execution_count": 5,
     "metadata": {},
     "output_type": "execute_result"
    }
   ],
   "source": [
    "mp_drawaing.DrawingSpec(color=(255,34,68), thickness=2, circle_radius=3)"
   ]
  },
  {
   "cell_type": "code",
   "execution_count": 6,
   "id": "fa8ad4b8",
   "metadata": {},
   "outputs": [
    {
     "ename": "SyntaxError",
     "evalue": "invalid syntax (742052713.py, line 1)",
     "output_type": "error",
     "traceback": [
      "\u001b[1;36m  Input \u001b[1;32mIn [6]\u001b[1;36m\u001b[0m\n\u001b[1;33m    <img src=\"https://i.imgur.com/3j8BPdc.png\" style = \"height:300px\" >\u001b[0m\n\u001b[1;37m    ^\u001b[0m\n\u001b[1;31mSyntaxError\u001b[0m\u001b[1;31m:\u001b[0m invalid syntax\n"
     ]
    }
   ],
   "source": [
    "<img src=\"https://i.imgur.com/3j8BPdc.png\" style = \"height:300px\" >"
   ]
  },
  {
   "cell_type": "code",
   "execution_count": 9,
   "id": "8ef27173",
   "metadata": {},
   "outputs": [
    {
     "data": {
      "text/plain": [
       "frozenset({(0, 1),\n",
       "           (0, 4),\n",
       "           (1, 2),\n",
       "           (2, 3),\n",
       "           (3, 7),\n",
       "           (4, 5),\n",
       "           (5, 6),\n",
       "           (6, 8),\n",
       "           (9, 10),\n",
       "           (11, 12),\n",
       "           (11, 13),\n",
       "           (11, 23),\n",
       "           (12, 14),\n",
       "           (12, 24),\n",
       "           (13, 15),\n",
       "           (14, 16),\n",
       "           (15, 17),\n",
       "           (15, 19),\n",
       "           (15, 21),\n",
       "           (16, 18),\n",
       "           (16, 20),\n",
       "           (16, 22),\n",
       "           (17, 19),\n",
       "           (18, 20),\n",
       "           (23, 24),\n",
       "           (23, 25),\n",
       "           (24, 26),\n",
       "           (25, 27),\n",
       "           (26, 28),\n",
       "           (27, 29),\n",
       "           (27, 31),\n",
       "           (28, 30),\n",
       "           (28, 32),\n",
       "           (29, 31),\n",
       "           (30, 32)})"
      ]
     },
     "execution_count": 9,
     "metadata": {},
     "output_type": "execute_result"
    }
   ],
   "source": [
    "mp_pose.POSE_CONNECTIONS"
   ]
  },
  {
   "cell_type": "code",
   "execution_count": 10,
   "id": "31fde479",
   "metadata": {},
   "outputs": [],
   "source": [
    "# It means there are 33 landmark 0 index to 32\n",
    "# These repesent the different joint within the pose"
   ]
  },
  {
   "cell_type": "markdown",
   "id": "6824d077",
   "metadata": {},
   "source": [
    "# Step3: Determine joint"
   ]
  },
  {
   "cell_type": "code",
   "execution_count": 3,
   "id": "5a6f13ae",
   "metadata": {},
   "outputs": [],
   "source": [
    "cap = cv2.VideoCapture(0)\n",
    "with mp_pose.Pose(min_detection_confidence=0.5, min_tracking_confidence=0.5) as pose:\n",
    "    while cap.isOpened():\n",
    "        ret, frame = cap.read()\n",
    "\n",
    "       # when we feed image/frame into mediapip it must be in RGB\n",
    "        # recolor the image from bgr to rgb\n",
    "        image = cv2.cvtColor(frame, cv2.COLOR_BGR2RGB)\n",
    "        image.flags.writeable = False\n",
    "\n",
    "        # Make detection:\n",
    "        result = pose.process(image)\n",
    "\n",
    "        # when image feed to webcam , it support bgr\n",
    "        # recoolor image from rgb to bgr\n",
    "        image.flags.writeable= True\n",
    "        image = cv2.cvtColor(image, cv2.COLOR_RGB2BGR)\n",
    "        \n",
    "        # Extract landmarks(with the help of exception handling):\n",
    "        try:\n",
    "            landmarks = result.pose_landmarks.landmark\n",
    "        except:\n",
    "            pass\n",
    "        \n",
    "            \n",
    "        # Render the image\n",
    "        mp_drawaing.draw_landmarks(image, result.pose_landmarks, mp_pose.POSE_CONNECTIONS,\n",
    "                                  mp_drawaing.DrawingSpec(color=(255,34,68), thickness=2, circle_radius=3),\n",
    "                                  mp_drawaing.DrawingSpec(color=(0,255,0), thickness=2, circle_radius=3))\n",
    "        cv2.imshow(\"AIPoseDetection: \", image)\n",
    "\n",
    "        if cv2.waitKey(10) & 0xFF == ord('q'):\n",
    "            break\n",
    "cap.release()\n",
    "cv2.destroyAllWindows()"
   ]
  },
  {
   "cell_type": "code",
   "execution_count": 4,
   "id": "a7492fd5",
   "metadata": {},
   "outputs": [
    {
     "data": {
      "text/plain": [
       "33"
      ]
     },
     "execution_count": 4,
     "metadata": {},
     "output_type": "execute_result"
    }
   ],
   "source": [
    "len(result.pose_landmarks.landmark)"
   ]
  },
  {
   "cell_type": "code",
   "execution_count": 5,
   "id": "2f5eed8a",
   "metadata": {},
   "outputs": [
    {
     "data": {
      "text/plain": [
       "[x: 0.57992923\n",
       "y: 0.88355994\n",
       "z: -2.4947352\n",
       "visibility: 0.9996686\n",
       ", x: 0.614633\n",
       "y: 0.77897817\n",
       "z: -2.4884784\n",
       "visibility: 0.99969316\n",
       ", x: 0.6366112\n",
       "y: 0.7729984\n",
       "z: -2.4878042\n",
       "visibility: 0.9996883\n",
       ", x: 0.6552418\n",
       "y: 0.76753044\n",
       "z: -2.4879136\n",
       "visibility: 0.9996556\n",
       ", x: 0.52677727\n",
       "y: 0.7903386\n",
       "z: -2.4931293\n",
       "visibility: 0.9996829\n",
       ", x: 0.49549255\n",
       "y: 0.791061\n",
       "z: -2.493523\n",
       "visibility: 0.99960136\n",
       ", x: 0.47226763\n",
       "y: 0.7909258\n",
       "z: -2.4930017\n",
       "visibility: 0.9995583\n",
       ", x: 0.68861556\n",
       "y: 0.757653\n",
       "z: -2.0003276\n",
       "visibility: 0.99962896\n",
       ", x: 0.43229795\n",
       "y: 0.79553795\n",
       "z: -2.0329342\n",
       "visibility: 0.9996448\n",
       ", x: 0.62012255\n",
       "y: 0.9494286\n",
       "z: -2.262713\n",
       "visibility: 0.99499404\n",
       ", x: 0.5270943\n",
       "y: 0.95854664\n",
       "z: -2.2747676\n",
       "visibility: 0.99441403\n",
       ", x: 0.83401835\n",
       "y: 0.98349065\n",
       "z: -1.4326408\n",
       "visibility: 0.9278838\n",
       ", x: 0.32385686\n",
       "y: 0.9896632\n",
       "z: -1.3484417\n",
       "visibility: 0.96153605\n",
       ", x: 0.9671362\n",
       "y: 1.2485918\n",
       "z: -1.4756788\n",
       "visibility: 0.49421683\n",
       ", x: 0.20972367\n",
       "y: 1.3141744\n",
       "z: -1.1609894\n",
       "visibility: 0.26881453\n",
       ", x: 0.7945312\n",
       "y: 0.9604627\n",
       "z: -1.6320959\n",
       "visibility: 0.44008002\n",
       ", x: 0.28128538\n",
       "y: 0.99760395\n",
       "z: -1.2368009\n",
       "visibility: 0.23733087\n",
       ", x: 0.7623659\n",
       "y: 0.86818767\n",
       "z: -1.6488991\n",
       "visibility: 0.39273572\n",
       ", x: 0.29260293\n",
       "y: 0.89118177\n",
       "z: -1.2482235\n",
       "visibility: 0.23666306\n",
       ", x: 0.76264185\n",
       "y: 0.8679759\n",
       "z: -1.5744578\n",
       "visibility: 0.43241432\n",
       ", x: 0.30627427\n",
       "y: 0.8865143\n",
       "z: -1.1701515\n",
       "visibility: 0.25778714\n",
       ", x: 0.7560121\n",
       "y: 0.8899872\n",
       "z: -1.6008526\n",
       "visibility: 0.39195678\n",
       ", x: 0.3214323\n",
       "y: 0.91380966\n",
       "z: -1.2074134\n",
       "visibility: 0.22438246\n",
       ", x: 0.7259401\n",
       "y: 1.7430444\n",
       "z: -0.07008395\n",
       "visibility: 0.006375204\n",
       ", x: 0.45035338\n",
       "y: 1.7428128\n",
       "z: 0.073713996\n",
       "visibility: 0.008872304\n",
       ", x: 0.66707885\n",
       "y: 1.6601859\n",
       "z: 0.07810144\n",
       "visibility: 0.026500171\n",
       ", x: 0.3730568\n",
       "y: 1.7962636\n",
       "z: 0.08318853\n",
       "visibility: 0.020355899\n",
       ", x: 0.6821211\n",
       "y: 2.0661247\n",
       "z: 0.90507144\n",
       "visibility: 0.0018592501\n",
       ", x: 0.5461632\n",
       "y: 2.0566888\n",
       "z: 0.88428533\n",
       "visibility: 0.0011828748\n",
       ", x: 0.67549086\n",
       "y: 2.1535807\n",
       "z: 0.97466993\n",
       "visibility: 0.0013652917\n",
       ", x: 0.58578557\n",
       "y: 2.0756717\n",
       "z: 0.95692265\n",
       "visibility: 0.00073149736\n",
       ", x: 0.67833775\n",
       "y: 2.1770978\n",
       "z: 0.6800345\n",
       "visibility: 0.0047880635\n",
       ", x: 0.5575901\n",
       "y: 2.207807\n",
       "z: 0.62311375\n",
       "visibility: 0.002786934\n",
       "]"
      ]
     },
     "execution_count": 5,
     "metadata": {},
     "output_type": "execute_result"
    }
   ],
   "source": [
    "landmarks"
   ]
  },
  {
   "cell_type": "code",
   "execution_count": 54,
   "id": "67116e90",
   "metadata": {},
   "outputs": [
    {
     "name": "stdout",
     "output_type": "stream",
     "text": [
      "PoseLandmark.NOSE\n",
      "PoseLandmark.LEFT_EYE_INNER\n",
      "PoseLandmark.LEFT_EYE\n",
      "PoseLandmark.LEFT_EYE_OUTER\n",
      "PoseLandmark.RIGHT_EYE_INNER\n",
      "PoseLandmark.RIGHT_EYE\n",
      "PoseLandmark.RIGHT_EYE_OUTER\n",
      "PoseLandmark.LEFT_EAR\n",
      "PoseLandmark.RIGHT_EAR\n",
      "PoseLandmark.MOUTH_LEFT\n",
      "PoseLandmark.MOUTH_RIGHT\n",
      "PoseLandmark.LEFT_SHOULDER\n",
      "PoseLandmark.RIGHT_SHOULDER\n",
      "PoseLandmark.LEFT_ELBOW\n",
      "PoseLandmark.RIGHT_ELBOW\n",
      "PoseLandmark.LEFT_WRIST\n",
      "PoseLandmark.RIGHT_WRIST\n",
      "PoseLandmark.LEFT_PINKY\n",
      "PoseLandmark.RIGHT_PINKY\n",
      "PoseLandmark.LEFT_INDEX\n",
      "PoseLandmark.RIGHT_INDEX\n",
      "PoseLandmark.LEFT_THUMB\n",
      "PoseLandmark.RIGHT_THUMB\n",
      "PoseLandmark.LEFT_HIP\n",
      "PoseLandmark.RIGHT_HIP\n",
      "PoseLandmark.LEFT_KNEE\n",
      "PoseLandmark.RIGHT_KNEE\n",
      "PoseLandmark.LEFT_ANKLE\n",
      "PoseLandmark.RIGHT_ANKLE\n",
      "PoseLandmark.LEFT_HEEL\n",
      "PoseLandmark.RIGHT_HEEL\n",
      "PoseLandmark.LEFT_FOOT_INDEX\n",
      "PoseLandmark.RIGHT_FOOT_INDEX\n"
     ]
    }
   ],
   "source": [
    "for lndmrk in mp_pose.PoseLandmark:\n",
    "    print(lndmrk)"
   ]
  },
  {
   "cell_type": "code",
   "execution_count": 85,
   "id": "52fac1c7",
   "metadata": {},
   "outputs": [
    {
     "data": {
      "text/plain": [
       "[0.7427825927734375, 1.0045714378356934]"
      ]
     },
     "execution_count": 85,
     "metadata": {},
     "output_type": "execute_result"
    }
   ],
   "source": [
    "[landmarks[mp_pose.PoseLandmark.LEFT_SHOULDER.value].x,landmarks[mp_pose.PoseLandmark.LEFT_SHOULDER.value].y]\n",
    "\n"
   ]
  },
  {
   "cell_type": "code",
   "execution_count": 56,
   "id": "54819c74",
   "metadata": {},
   "outputs": [
    {
     "data": {
      "text/plain": [
       "x: 0.9179614\n",
       "y: 0.85134685\n",
       "z: -0.6994146\n",
       "visibility: 0.9756945"
      ]
     },
     "execution_count": 56,
     "metadata": {},
     "output_type": "execute_result"
    }
   ],
   "source": [
    "landmarks[mp_pose.PoseLandmark.LEFT_ELBOW]"
   ]
  },
  {
   "cell_type": "code",
   "execution_count": 57,
   "id": "6df67fc2",
   "metadata": {},
   "outputs": [
    {
     "data": {
      "text/plain": [
       "x: 0.9298973\n",
       "y: 0.39220783\n",
       "z: -1.2552484\n",
       "visibility: 0.99577785"
      ]
     },
     "execution_count": 57,
     "metadata": {},
     "output_type": "execute_result"
    }
   ],
   "source": [
    "landmarks[mp_pose.PoseLandmark.LEFT_WRIST]"
   ]
  },
  {
   "cell_type": "markdown",
   "id": "e80b3eb5",
   "metadata": {},
   "source": [
    "## Step4: Calculate Angle"
   ]
  },
  {
   "cell_type": "code",
   "execution_count": 3,
   "id": "2f58ecc9",
   "metadata": {},
   "outputs": [],
   "source": [
    "def calculate_angle(left_shoulder, left_elbow, left_wrist):\n",
    "    left_shoulder = np.array(left_shoulder)\n",
    "    left_elbow = np.array(left_elbow)\n",
    "    left_wrist = np.array(left_wrist)\n",
    "    \n",
    "    radians = np.arctan2(left_wrist[1]-left_elbow[1], left_wrist[0]-left_elbow[0]) - np.arctan2(left_shoulder[1]-left_elbow[1], left_shoulder[0]-left_elbow[0])\n",
    "    \n",
    "    angle = np.abs(radians *180.0/np.pi)\n",
    "    \n",
    "    if angle > 180.0:\n",
    "        angle = 360 -angel\n",
    "    \n",
    "    return angle"
   ]
  },
  {
   "cell_type": "code",
   "execution_count": 7,
   "id": "25ce2da5",
   "metadata": {},
   "outputs": [],
   "source": [
    "left_shoudler = [landmarks[mp_pose.PoseLandmark.LEFT_SHOULDER.value].x,landmarks[mp_pose.PoseLandmark.LEFT_SHOULDER.value].y]\n",
    "left_elbow   =  [landmarks[mp_pose.PoseLandmark.LEFT_ELBOW.value].x,landmarks[mp_pose.PoseLandmark.LEFT_ELBOW.value].y]\n",
    "left_wrist   =  [landmarks[mp_pose.PoseLandmark.LEFT_WRIST.value].x,landmarks[mp_pose.PoseLandmark.LEFT_WRIST.value].y]\n",
    "\n"
   ]
  },
  {
   "cell_type": "code",
   "execution_count": 8,
   "id": "96d5e4a3",
   "metadata": {},
   "outputs": [
    {
     "data": {
      "text/plain": [
       "([0.834018349647522, 0.9834906458854675],\n",
       " [0.9671362042427063, 1.2485917806625366],\n",
       " [0.7945312261581421, 0.9604626893997192])"
      ]
     },
     "execution_count": 8,
     "metadata": {},
     "output_type": "execute_result"
    }
   ],
   "source": [
    "left_shoudler, left_elbow, left_wrist"
   ]
  },
  {
   "cell_type": "code",
   "execution_count": 61,
   "id": "7d205701",
   "metadata": {},
   "outputs": [
    {
     "data": {
      "text/plain": [
       "array([88.08748849])"
      ]
     },
     "execution_count": 61,
     "metadata": {},
     "output_type": "execute_result"
    }
   ],
   "source": [
    "calculate_angle(left_shoudler, left_elbow, left_wrist)"
   ]
  },
  {
   "cell_type": "code",
   "execution_count": 92,
   "id": "13383d23",
   "metadata": {},
   "outputs": [
    {
     "name": "stdout",
     "output_type": "stream",
     "text": [
      "angle 3.1279988680987945\n",
      "angle 4.59621708453853\n",
      "angle 4.576669821812638\n",
      "angle 4.662448073141792\n",
      "angle 2.8221670677105704\n",
      "angle 1.6011758536907656\n",
      "angle 2.481421078938053\n",
      "angle 1.4994819805366042\n",
      "angle 1.9769679646421552\n",
      "angle 2.4218351208509317\n",
      "angle 2.7506298524474317\n",
      "angle 0.05449079621760644\n",
      "angle 0.698050772646863\n",
      "angle 0.2257557317444594\n",
      "angle 4.004900174460846\n",
      "angle 4.5588937011354895\n",
      "angle 6.256997760693074\n",
      "angle 5.577565113430055\n",
      "angle 3.99256499459547\n",
      "angle 3.8868009900019995\n",
      "angle 5.358179257589432\n",
      "angle 9.26559187490775\n",
      "angle 15.431437359111559\n",
      "angle 13.997720018865078\n",
      "angle 11.666653069693215\n",
      "angle 10.838057768107303\n",
      "angle 18.86225617236133\n",
      "angle 10.73142730865562\n",
      "angle 10.034370519159449\n",
      "angle 11.650241782882556\n",
      "angle 13.262501241488977\n",
      "angle 2.0066670466536776\n",
      "angle 2.3153726017297545\n",
      "angle 0.6818939503509222\n",
      "angle 8.731818455864047\n",
      "angle 8.849860799267454\n",
      "angle 8.113687923628758\n",
      "angle 8.291810034950137\n",
      "angle 8.41812195803182\n",
      "angle 5.353574826213296\n",
      "angle 4.090350137101255\n",
      "angle 3.0072203386283554\n",
      "angle 4.305109238141383\n",
      "angle 3.185162797384279\n",
      "angle 2.391902510663924\n",
      "angle 3.855699041979383\n",
      "angle 3.773616989471597\n",
      "angle 4.142247909509574\n",
      "angle 4.234493872251774\n",
      "angle 4.314395747222429\n",
      "angle 4.222396935009008\n",
      "angle 4.565249365516431\n",
      "angle 4.42352171408003\n",
      "angle 4.840722476722868\n",
      "angle 3.9763371527907183\n",
      "angle 3.997802862176994\n",
      "angle 3.9344646468049813\n",
      "angle 3.0218275761017197\n",
      "angle 2.3933886878000297\n",
      "angle 1.980128815447302\n",
      "angle 4.714319286203145\n",
      "angle 7.261233784257633\n",
      "angle 7.806967269198792\n",
      "angle 13.795194079547743\n",
      "angle 13.808906785180755\n",
      "angle 14.21661524050649\n",
      "angle 9.948309347725232\n",
      "angle 10.067967218766208\n",
      "angle 11.347536889941614\n",
      "angle 10.527640982141254\n",
      "angle 20.040895486576932\n",
      "angle 23.792694953854493\n",
      "angle 18.654397944974747\n",
      "angle 17.660173380903043\n",
      "angle 17.13495736051489\n",
      "angle 18.017272384909862\n",
      "angle 21.510183768055377\n",
      "angle 23.53861579781248\n",
      "angle 24.17197239875307\n",
      "angle 28.137880673422526\n",
      "angle 32.30146080821698\n",
      "angle 32.28311724315426\n",
      "angle 32.241672924329166\n",
      "angle 30.299240189278315\n",
      "angle 30.775378697580766\n",
      "angle 30.720865228586167\n",
      "angle 28.288038646775256\n",
      "angle 29.237844726194258\n",
      "angle 29.449653504771536\n",
      "angle 27.546162914628404\n",
      "angle 28.518381068016485\n",
      "angle 26.397172514036644\n",
      "angle 28.147691396403403\n",
      "angle 27.587639387053294\n",
      "angle 25.336436050374672\n",
      "angle 25.920904023704217\n",
      "angle 25.509333929288232\n",
      "angle 23.836741380526988\n",
      "angle 9.43364314354696\n",
      "angle 13.068116779872573\n",
      "angle 1.7383828307539444\n",
      "angle 0.3129262403751002\n",
      "angle 27.376579592279548\n",
      "angle 16.62520440512687\n",
      "angle 13.059602449424915\n",
      "angle 3.562629450083444\n",
      "angle 5.735836115653731\n",
      "angle 29.02070728659174\n",
      "angle 13.190767364494441\n",
      "angle 12.816780772119909\n",
      "angle 71.8427452663176\n",
      "angle 6.508260416205826\n",
      "angle 11.199263077227252\n",
      "angle 21.38666566624953\n",
      "angle 28.020265899955728\n",
      "angle 23.15749339990584\n",
      "angle 5.608429379179601\n",
      "angle 5.733046657588186\n",
      "angle 3.7129210817329232\n",
      "angle 10.887517426574824\n",
      "angle 14.269352929480961\n",
      "angle 10.719600314303563\n",
      "angle 15.514104508220612\n",
      "angle 9.564300463062384\n",
      "angle 7.829836936355117\n",
      "angle 3.915859981475319\n",
      "angle 3.034936091491954\n",
      "angle 4.592751532472696\n",
      "angle 7.962803656086553\n",
      "angle 7.315227455994124\n",
      "angle 0.07704197625309171\n",
      "angle 1.5546814628617622\n",
      "angle 0.8221445622472144\n",
      "angle 1.6432486103646444\n",
      "angle 8.200327379340985\n",
      "angle 10.783295638698933\n",
      "angle 11.631403126659958\n",
      "angle 1.0084804634054259\n",
      "angle 1.701162540599882\n",
      "angle 2.4187043512210886\n",
      "angle 0.08633330419524536\n",
      "angle 3.0592987048675933\n",
      "angle 8.40388924046611\n",
      "angle 11.459091288742451\n",
      "angle 19.976383092213467\n",
      "angle 19.64493119039783\n",
      "angle 20.72711848211732\n",
      "angle 21.611144086700545\n",
      "angle 18.52293551229185\n",
      "angle 20.344992593298127\n",
      "angle 12.765580538678192\n",
      "angle 12.492336643233024\n",
      "angle 15.836636898175756\n",
      "angle 17.129494217477273\n",
      "angle 18.409279446380225\n",
      "angle 14.35127084914938\n",
      "angle 15.998611905482344\n",
      "angle 18.75736434070116\n",
      "angle 11.266779489109286\n",
      "angle 33.63368968430011\n",
      "angle 41.109865901904975\n",
      "angle 41.28119037622873\n",
      "angle 37.43307040019589\n",
      "angle 35.516709131215556\n",
      "angle 37.97896418068174\n",
      "angle 29.086872329114993\n",
      "angle 17.97735178566877\n",
      "angle 16.80656039056607\n",
      "angle 16.97817924344145\n",
      "angle 23.957679691650576\n",
      "angle 25.90235268209896\n",
      "angle 18.76916010943248\n",
      "angle 14.36374872582663\n",
      "angle 6.891407150105306\n",
      "angle 2.4687364692656923\n",
      "angle 5.252394907274398\n",
      "angle 9.898341892609542\n",
      "angle 12.084486689068434\n",
      "angle 7.532786607351535\n",
      "angle 7.523404949493803\n",
      "angle 8.609264763211513\n",
      "angle 14.848159062102381\n",
      "angle 17.964036911161294\n",
      "angle 19.081315503473885\n",
      "angle 16.974063455288793\n",
      "angle 7.339390424975241\n",
      "angle 8.677673382585875\n",
      "angle 8.149787534705641\n",
      "angle 9.06216038765935\n",
      "angle 8.757603442114075\n",
      "angle 9.41820970146756\n",
      "angle 9.65486913834441\n",
      "angle 9.65039115661586\n",
      "angle 10.127641990056182\n",
      "angle 11.002101799213408\n",
      "angle 10.960060446475058\n",
      "angle 10.865699492022879\n",
      "angle 10.69341639347005\n",
      "angle 9.887897481110981\n",
      "angle 9.263710195868375\n",
      "angle 9.45230923650011\n",
      "angle 9.381039930070408\n",
      "angle 10.50039100592792\n",
      "angle 11.261459090818951\n",
      "angle 10.83676399067743\n",
      "angle 10.304182843684854\n",
      "angle 10.283830209845137\n",
      "angle 7.789074580053216\n",
      "angle 20.07743102086102\n",
      "angle 23.384256718683904\n",
      "angle 6.814213413929677\n",
      "angle 4.594618915465527\n",
      "angle 4.259761256726701\n",
      "angle 4.7960947104704035\n",
      "angle 3.6374751378420016\n",
      "angle 3.138957071307686\n",
      "angle 6.436154006792306\n",
      "angle 6.403000108813354\n",
      "angle 6.643875743046425\n",
      "angle 6.528606219447242\n",
      "angle 6.464794641306772\n",
      "angle 6.213077492739953\n",
      "angle 5.248860046833948\n",
      "angle 5.108356844256639\n"
     ]
    }
   ],
   "source": [
    "cap = cv2.VideoCapture(0)\n",
    "# setup media pipe instance\n",
    "with mp_pose.Pose(min_detection_confidence=0.5, min_tracking_confidence=0.5) as pose:\n",
    "    while cap.isOpened():\n",
    "        ret, frame = cap.read()\n",
    "\n",
    "       # when we feed image/frame into mediapip it must be in RGB\n",
    "        # recolor the image from bgr to rgb\n",
    "        image = cv2.cvtColor(frame, cv2.COLOR_BGR2RGB)\n",
    "        image.flags.writeable = False\n",
    "\n",
    "        # Make detection:\n",
    "        result = pose.process(image)\n",
    "\n",
    "        # when image feed to webcam , it support bgr\n",
    "        # recoolor image from rgb to bgr\n",
    "        image.flags.writeable= True\n",
    "        image = cv2.cvtColor(image, cv2.COLOR_RGB2BGR)\n",
    "        \n",
    "        # Extract landmarks(with the help of exception handling):\n",
    "        try:\n",
    "            landmarks = result.pose_landmarks.landmark\n",
    "            \n",
    "            \n",
    "#             Get Cordinates:\n",
    "            left_shoudler = [landmarks[mp_pose.PoseLandmark.RIGHT_SHOULDER.value].x,landmarks[mp_pose.PoseLandmark.RIGHT_SHOULDER.value].y]\n",
    "            left_elbow =  [landmarks[mp_pose.PoseLandmark.RIGHT_ELBOW.value].x,landmarks[mp_pose.PoseLandmark.RIGHT_ELBOW.value].y]\n",
    "            left_wrist =  [landmarks[mp_pose.PoseLandmark.RIGHT_WRIST.value].x,landmarks[mp_pose.PoseLandmark.RIGHT_WRIST.value].y]\n",
    "#             \n",
    "#             left_shoudler = [landmarks[mp_pose.PoseLandmark.LEFT_SHOULDER.value].x,landmarks[mp_pose.PoseLandmark.LEFT_SHOULDER.value].y]\n",
    "#             left_elbow =  [landmarks[mp_pose.PoseLandmark.LEFT_ELBOW.value].x,landmarks[mp_pose.PoseLandmark.LEFT_ELBOW.value].y]\n",
    "#             left_wrist =  [landmarks[mp_pose.PoseLandmark.LEFT_WRIST.value].x,landmarks[mp_pose.PoseLandmark.LEFT_WRIST.value].y]\n",
    "                \n",
    "\n",
    "            \n",
    "            # Calcualate Angle:\n",
    "            angle = calculate_angle(left_shoudler, left_elbow, left_wrist)\n",
    "            print(\"angle\" ,angle)\n",
    "            \n",
    "#             viualized\n",
    "            cv2.putText(image, str(angle),\n",
    "                       tuple(np.multiply(left_elbow, [640,480]).astype(int)),\n",
    "                            cv2.FONT_HERSHEY_SIMPLEX, 0.5,(255,255,255), 2, cv2.LINE_AA\n",
    "                       )\n",
    "        except:\n",
    "            pass\n",
    "        \n",
    "            \n",
    "        # Render the image\n",
    "        mp_drawaing.draw_landmarks(image, result.pose_landmarks, mp_pose.POSE_CONNECTIONS,\n",
    "                                  mp_drawaing.DrawingSpec(color=(255,34,68), thickness=2, circle_radius=2),\n",
    "                                  mp_drawaing.DrawingSpec(color=(0,255,0), thickness=2, circle_radius=2)\n",
    "                                  )\n",
    "        \n",
    "        \n",
    "        cv2.imshow(\"AIPoseDetection: \", image)\n",
    "\n",
    "        if cv2.waitKey(10) & 0xFF == ord('q'):\n",
    "            break\n",
    "    cap.release()\n",
    "    cv2.destroyAllWindows()"
   ]
  },
  {
   "cell_type": "code",
   "execution_count": 73,
   "id": "6ef14986",
   "metadata": {},
   "outputs": [
    {
     "data": {
      "text/plain": [
       "(array([596, 447]), array([726, 544]))"
      ]
     },
     "execution_count": 73,
     "metadata": {},
     "output_type": "execute_result"
    }
   ],
   "source": [
    "tuple(np.multiply(left_elbow, [640, 480]).astype(int))"
   ]
  },
  {
   "cell_type": "markdown",
   "id": "3264f4f0",
   "metadata": {},
   "source": [
    "## Step 5: Curl Counter"
   ]
  },
  {
   "cell_type": "code",
   "execution_count": 5,
   "id": "0e58f80d",
   "metadata": {},
   "outputs": [],
   "source": [
    "cap = cv2.VideoCapture(0)\n",
    "counter = 0\n",
    "stage=None\n",
    "# setup media pipe instance\n",
    "with mp_pose.Pose(min_detection_confidence=0.5, min_tracking_confidence=0.5) as pose:\n",
    "    while cap.isOpened():\n",
    "        ret, frame = cap.read()\n",
    "\n",
    "       # when we feed image/frame into mediapip it must be in RGB\n",
    "        # recolor the image from bgr to rgb\n",
    "        image = cv2.cvtColor(frame, cv2.COLOR_BGR2RGB)\n",
    "        image.flags.writeable = False\n",
    "\n",
    "        # Make detection:\n",
    "        result = pose.process(image)\n",
    "\n",
    "        # when image feed to webcam , it support bgr\n",
    "        # recoolor image from rgb to bgr\n",
    "        image.flags.writeable= True\n",
    "        image = cv2.cvtColor(image, cv2.COLOR_RGB2BGR)\n",
    "        \n",
    "        # Extract landmarks(with the help of exception handling):\n",
    "        try:\n",
    "            landmarks = result.pose_landmarks.landmark\n",
    "            \n",
    "            \n",
    "#             Get Cordinates:\n",
    "            left_shoudler = [landmarks[mp_pose.PoseLandmark.RIGHT_SHOULDER.value].x,landmarks[mp_pose.PoseLandmark.RIGHT_SHOULDER.value].y]\n",
    "            left_elbow =  [landmarks[mp_pose.PoseLandmark.RIGHT_ELBOW.value].x,landmarks[mp_pose.PoseLandmark.RIGHT_ELBOW.value].y]\n",
    "            left_wrist =  [landmarks[mp_pose.PoseLandmark.RIGHT_WRIST.value].x,landmarks[mp_pose.PoseLandmark.RIGHT_WRIST.value].y]\n",
    "#             \n",
    "#             left_shoudler = [landmarks[mp_pose.PoseLandmark.LEFT_SHOULDER.value].x,landmarks[mp_pose.PoseLandmark.LEFT_SHOULDER.value].y]\n",
    "#             left_elbow =  [landmarks[mp_pose.PoseLandmark.LEFT_ELBOW.value].x,landmarks[mp_pose.PoseLandmark.LEFT_ELBOW.value].y]\n",
    "#             left_wrist =  [landmarks[mp_pose.PoseLandmark.LEFT_WRIST.value].x,landmarks[mp_pose.PoseLandmark.LEFT_WRIST.value].y]\n",
    "                \n",
    "\n",
    "            \n",
    "            # Calcualate Angle:\n",
    "            angle = calculate_angle(left_shoudler, left_elbow, left_wrist)\n",
    "            \n",
    "            \n",
    "#             viualized\n",
    "            cv2.putText(image, str(angle),\n",
    "                       tuple(np.multiply(left_elbow, [640,480]).astype(int)),\n",
    "                            cv2.FONT_HERSHEY_SIMPLEX, 0.5,(255,255,255), 2, cv2.LINE_AA)\n",
    "    \n",
    "            # curl counter logic \n",
    "            if angle > 160:\n",
    "                stage = 'down'\n",
    "            if angle < 30 and stage == 'down':\n",
    "                stage = 'up'\n",
    "                counter +=1\n",
    "                \n",
    "        except:\n",
    "            pass\n",
    "        \n",
    "        # setup a status box\n",
    "        cv2.rectangle(image, (0,0),(255,73), (0, 255,0),-1)\n",
    "        \n",
    "        # Rep data\n",
    "        cv2.putText(image, 'REPS', (15,12), cv2.FONT_HERSHEY_SIMPLEX, 0.5, (0,0,0),1 ,cv2.LINE_AA)\n",
    "        cv2.putText(image, str(counter), (10,60), cv2.FONT_HERSHEY_SIMPLEX, 0.5, (255,255,255),2 ,cv2.LINE_AA)\n",
    "        \n",
    "        # Stage data\n",
    "        cv2.putText(image, 'STAGE', (65,12), cv2.FONT_HERSHEY_SIMPLEX, 0.5, (0,0,0),1 ,cv2.LINE_AA)\n",
    "        cv2.putText(image, stage, (60,60), cv2.FONT_HERSHEY_SIMPLEX, 0.5, (255,255,255),2 ,cv2.LINE_AA)\n",
    "        \n",
    "            \n",
    "        # Render the image\n",
    "        mp_drawaing.draw_landmarks(image, result.pose_landmarks, mp_pose.POSE_CONNECTIONS,\n",
    "                                  mp_drawaing.DrawingSpec(color=(255,34,68), thickness=2, circle_radius=2),\n",
    "                                  mp_drawaing.DrawingSpec(color=(0,255,0), thickness=2, circle_radius=2)\n",
    "                                  )\n",
    "        \n",
    "        \n",
    "        cv2.imshow(\"AIPoseDetection: \", image)\n",
    "\n",
    "        if cv2.waitKey(10) & 0xFF == ord('q'):\n",
    "            break\n",
    "    cap.release()\n",
    "    cv2.destroyAllWindows()"
   ]
  },
  {
   "cell_type": "code",
   "execution_count": null,
   "id": "d26ebe69",
   "metadata": {},
   "outputs": [],
   "source": []
  }
 ],
 "metadata": {
  "kernelspec": {
   "display_name": "Python 3 (ipykernel)",
   "language": "python",
   "name": "python3"
  },
  "language_info": {
   "codemirror_mode": {
    "name": "ipython",
    "version": 3
   },
   "file_extension": ".py",
   "mimetype": "text/x-python",
   "name": "python",
   "nbconvert_exporter": "python",
   "pygments_lexer": "ipython3",
   "version": "3.9.12"
  }
 },
 "nbformat": 4,
 "nbformat_minor": 5
}
